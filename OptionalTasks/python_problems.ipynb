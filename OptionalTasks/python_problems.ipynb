{
 "cells": [
  {
   "cell_type": "markdown",
   "metadata": {},
   "source": [
    "# Problem 1\n",
    "\n",
    "There are `n` children standing in a line. Each child is assigned a rating value given in the integer array `ratings`.\n",
    "\n",
    "You are giving candies to these children subjected to the following requirements:\n",
    "- Each child must have at least one candy.\n",
    "- Children with a higher rating get more candies than their neighbors.\n",
    "\n",
    "Return the minimum number of candies you need to have to distribute the candies to the children."
   ]
  },
  {
   "cell_type": "code",
   "execution_count": 18,
   "metadata": {},
   "outputs": [],
   "source": [
    "def candy(ratings: list[int]) -> int:\n",
    "    length = len(ratings)\n",
    "    candies = [1] * length\n",
    "\n",
    "    for i in range(length -1):\n",
    "        if ratings[i] < ratings[i+1]:\n",
    "            candies[i+1] = candies[i] + 1\n",
    "        if ratings[i] > ratings[i+1]:\n",
    "            candies[i] = max(candies[i] , candies[i+1] + 1)\n",
    "    print(candies)\n",
    "    return sum(candies)"
   ]
  },
  {
   "cell_type": "code",
   "execution_count": 19,
   "metadata": {},
   "outputs": [
    {
     "name": "stdout",
     "output_type": "stream",
     "text": [
      "[1, 2, 3, 2, 1]\n",
      "9\n",
      "[1, 2, 1]\n",
      "4\n"
     ]
    }
   ],
   "source": [
    "\"\"\"assert candy([1,0,2]) == 5 # You can allocate to the first, second and third child with 2, 1, 2 candies respectively.\n",
    "assert candy([1,2,2]) == 4 # You can allocate to the first, second and third child with 1, 2, 1 candies respectively. The third child gets 1 candy because it satisfies the above two conditions.\"\"\"\n",
    "sum1 = candy([1, 2, 3, 2, 1])\n",
    "print(sum1)\n",
    "sum2 = candy([1,2,2])\n",
    "print(sum2)"
   ]
  },
  {
   "cell_type": "markdown",
   "metadata": {},
   "source": [
    "# Problem 2\n",
    "\n",
    "Consider a money system consisting of `n` coins. Each coin has a positive integer value. Your task is to calculate the number of distinct ways you can produce a money sum `x` using the available coins.\n",
    "\n",
    "For example, if the coins are \\{2,3,5\\} and the desired sum is 9, there are 8 ways:\n",
    "- 2+2+5\n",
    "- 2+5+2\n",
    "- 5+2+2\n",
    "- 3+3+3\n",
    "- 2+2+2+3\n",
    "- 2+2+3+2\n",
    "- 2+3+2+2\n",
    "- 3+2+2+2"
   ]
  },
  {
   "cell_type": "code",
   "execution_count": null,
   "metadata": {},
   "outputs": [],
   "source": [
    "def ways(n: int, x: int, coins: list[int]) -> int:\n",
    "    ways_arr = [0] * (x + 1)\n",
    "    ways_arr[0] = 1\n",
    "    for s in range(1, x + 1):\n",
    "        for coin in coins:\n",
    "            if s - coin >= 0:\n",
    "                ways_arr[s] += ways_arr[s - coin]\n",
    "    \n",
    "    return ways_arr[x]"
   ]
  },
  {
   "cell_type": "code",
   "execution_count": null,
   "metadata": {},
   "outputs": [
    {
     "name": "stdout",
     "output_type": "stream",
     "text": [
      "[2, 2, 2, 3]\n",
      "[2, 2, 3, 2]\n",
      "[2, 2, 5]\n",
      "[2, 3, 2, 2]\n",
      "[2, 5, 2]\n",
      "[3, 2, 2, 2]\n",
      "[3, 3, 3]\n",
      "[5, 2, 2]\n"
     ]
    }
   ],
   "source": [
    "def print_ways(coins, target, current=[]):\n",
    "    if target == 0:\n",
    "        print(current)\n",
    "        return\n",
    "    if target < 0:\n",
    "        return\n",
    "    \n",
    "    for coin in coins:\n",
    "        print_ways(coins, target - coin, current + [coin])\n",
    "\n",
    "\n",
    "coins = [2, 3, 5]\n",
    "target = 9\n",
    "print_ways(coins, target)\n"
   ]
  },
  {
   "cell_type": "code",
   "execution_count": 21,
   "metadata": {},
   "outputs": [
    {
     "name": "stdout",
     "output_type": "stream",
     "text": [
      "8\n"
     ]
    }
   ],
   "source": [
    "print(ways(3, 9, [2,3,5]))"
   ]
  },
  {
   "cell_type": "markdown",
   "metadata": {},
   "source": [
    "# Problem 3\n",
    "Given a string, your task is to reorder its letters in such a way that it becomes a palindrome.\n",
    "A palindrome is a word that reads the same backward as forward. e.g. \"madam\"\n",
    "\n",
    "Return a palindrome consisting of the characters of the original string. You may print any valid solution. If there are no solutions, return \"NO SOLUTION\"."
   ]
  },
  {
   "cell_type": "code",
   "execution_count": 3,
   "metadata": {},
   "outputs": [],
   "source": [
    "from collections import Counter\n",
    "\n",
    "def palindromize(s: str) -> str:\n",
    "    freq = Counter(s)\n",
    "    odd_chars = [c for c, count in freq.items() if count % 2 != 0]\n",
    "    \n",
    "    if len(odd_chars) > 1:\n",
    "        return \"NO SOLUTION\"\n",
    "    \n",
    "    half_palindrome = []\n",
    "    middle = ''\n",
    "    \n",
    "    for c in sorted(freq.keys()):\n",
    "        count = freq[c]\n",
    "        if count % 2 != 0:\n",
    "            middle = c * count\n",
    "        else:\n",
    "            half_palindrome.append(c * (count // 2))\n",
    "    \n",
    "    first_half = ''.join(half_palindrome)\n",
    "    second_half =  ''.join(half_palindrome[::-1])\n",
    "\n",
    "    return first_half + middle + second_half\n",
    "    \n",
    "    \"\"\"first_half = ''.join([c * (freq[c] // 2) for c in freq if freq[c] // 2 > 0])\n",
    "    second_half = first_half[::-1]\n",
    "    \n",
    "    if odd_chars:\n",
    "        middle = odd_chars[0] * freq[odd_chars[0]]\n",
    "    else:\n",
    "        middle = ''\n",
    "    \n",
    "    return first_half + middle + second_half\"\"\""
   ]
  },
  {
   "cell_type": "code",
   "execution_count": 4,
   "metadata": {},
   "outputs": [
    {
     "name": "stdout",
     "output_type": "stream",
     "text": [
      "AAACBCAAA\n"
     ]
    }
   ],
   "source": [
    "print(palindromize('AAAACACBA'))"
   ]
  }
 ],
 "metadata": {
  "kernelspec": {
   "display_name": "base",
   "language": "python",
   "name": "python3"
  },
  "language_info": {
   "codemirror_mode": {
    "name": "ipython",
    "version": 3
   },
   "file_extension": ".py",
   "mimetype": "text/x-python",
   "name": "python",
   "nbconvert_exporter": "python",
   "pygments_lexer": "ipython3",
   "version": "3.13.5"
  }
 },
 "nbformat": 4,
 "nbformat_minor": 2
}
