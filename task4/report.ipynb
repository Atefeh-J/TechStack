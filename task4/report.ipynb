{
 "cells": [
  {
   "cell_type": "markdown",
   "id": "1bdcb3c1",
   "metadata": {},
   "source": [
    "# Report on Cat vs. Dog Classification Using HOG and Decision Trees"
   ]
  },
  {
   "cell_type": "markdown",
   "id": "ecaaa9ff",
   "metadata": {},
   "source": [
    "## Approach\n",
    "The classification pipeline was designed to distinguish between cats and dogs using traditional computer vision features and a simple machine learning model. The key steps were:  \n",
    "### 1. Data Preparation\n",
    "- Images were loaded from the dataset directory.  \n",
    "- Filenames were used to assign class labels (`0 = cat`, `1 = dog`).  \n",
    "- Images were converted to grayscale and resized to 128×128 for consistency.  \n",
    "### 2. Feature Extraction  \n",
    "- Histogram of Oriented Gradients (HOG) was used to extract texture and edge-based features.  \n",
    "- Parameters:  \n",
    "- 9 orientation bins  \n",
    "- 8×8 pixels per cell  \n",
    "- 2×2 cells per block  \n",
    "- Block normalization: `L2-Hys`   \n",
    "### 3. Dataset Splitting  \n",
    "- Data was divided into training (80%) and testing (20%) sets.  \n",
    "- Stratified splitting ensured class balance between cats and dogs.  \n",
    "- Images were also saved into organized directories (`train/cat`, `train/dog`, `test/cat`, `test/dog`) for clarity and reuse.  \n",
    "### 4. Model Training  \n",
    "- A Decision Tree Classifier was trained on the extracted HOG features.  \n",
    "- Random state was fixed for reproducibility.  \n",
    "### 5. Evaluation  \n",
    "- Predictions were generated on the test set.  \n",
    "- Model accuracy was calculated using `accuracy_score`.  \n",
    "### 6. Visualization  \n",
    "- A subset of cat and dog test images was displayed with their predicted labels.  \n",
    "- Corresponding HOG visualizations were shown to illustrate feature extraction.  "
   ]
  },
  {
   "cell_type": "markdown",
   "id": "65f4f6a9",
   "metadata": {},
   "source": [
    "## Test Accuracy  \n",
    "The Decision Tree classifier achieved a test accuracy of approximately 86% .  \n",
    "This indicates that while the model is able to capture some discriminative features, it struggles with more complex variations in cat and dog images."
   ]
  },
  {
   "cell_type": "markdown",
   "id": "cc609f7f",
   "metadata": {},
   "source": [
    "## Dataset Split  \n",
    "- Training set: 80% of the dataset  \n",
    "- Test set: 20% of the dataset  \n",
    "- Stratification ensured equal distribution of cat and dog samples in both sets.  \n",
    "For example (if your dataset has 1000 images):  \n",
    "- 400 cats → 320 train, 80 test  \n",
    "- 600 dogs → 480 train, 120 test  "
   ]
  },
  {
   "cell_type": "markdown",
   "id": "69dec20a",
   "metadata": {},
   "source": [
    "## Potential Improvements  \n",
    "### 1. Model Enhancements  \n",
    "- Replace Decision Tree with more powerful models such as Random Forest or SVM for better generalization.  \n",
    "- Consider deep learning approaches (e.g., CNNs) to capture richer visual patterns.  \n",
    "### 2. Feature Engineering  \n",
    "- Experiment with different HOG parameters (cell size, orientations).  \n",
    "- Combine HOG with other features like LBP (Local Binary Patterns), which capture texture information by comparing each pixel with its neighbors. This can complement HOG’s shape and edge information, leading to a richer feature representation.  \n",
    "### 3. Preprocessing\n",
    "- Perform image normalization or histogram equalization for better contrast.  \n",
    "- Augment the dataset with flips, rotations, and slight scaling to improve robustness.  \n",
    "### 4. Evaluation Metrics\n",
    "- Report precision, recall, and F1-score in addition to accuracy for a more detailed performance assessment."
   ]
  },
  {
   "cell_type": "markdown",
   "id": "0b75f723",
   "metadata": {},
   "source": [
    "<!DOCTYPE html>\n",
    "<html lang=\"en\">\n",
    "<head>\n",
    "    <meta charset=\"UTF-8\">\n",
    "    <title>Cat vs Dog Report</title>\n",
    "    <style>\n",
    "        body {\n",
    "            font-family: Arial, sans-serif;\n",
    "            margin: 20px;\n",
    "        }\n",
    "        .image-gallery {\n",
    "            display: flex;\n",
    "            flex-direction: column; \n",
    "            align-items: center;   \n",
    "            gap: 20px;            \n",
    "            margin-top: 20px;\n",
    "        }\n",
    "        .image-gallery img {\n",
    "            width: 60%;   \n",
    "            height: auto;        \n",
    "            max-height: 400px;  \n",
    "            border: 2px solid #ccc;\n",
    "            border-radius: 8px;\n",
    "            object-fit: contain; \n",
    "        }\n",
    "    </style>\n",
    "</head>\n",
    "<body>\n",
    "    <h2>Example Images from Model</h2>\n",
    "    <div class=\"image-gallery\">\n",
    "        <img src=\"images/img1.png\" alt=\"Image 1\">\n",
    "        <img src=\"images/img2.png\" alt=\"Image 2\">\n",
    "        <img src=\"images/img3.png\" alt=\"Image 3\">\n",
    "    </div>\n",
    "</body>\n",
    "</html>\n"
   ]
  }
 ],
 "metadata": {
  "language_info": {
   "name": "python"
  }
 },
 "nbformat": 4,
 "nbformat_minor": 5
}
