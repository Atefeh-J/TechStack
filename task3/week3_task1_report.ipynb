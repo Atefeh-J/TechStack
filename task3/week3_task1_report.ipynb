{
 "cells": [
  {
   "cell_type": "markdown",
   "id": "5550512e",
   "metadata": {},
   "source": [
    "# Report: K-means Color Quantization\n",
    "\n",
    "## Approach\n",
    "The implementation follows the standard K-means clustering algorithm applied to image color quantization. The overall goal is to reduce the number of distinct colors in the image while preserving its main visual content.\n",
    "### Preprocessing:\n",
    "The input image is first reshaped into a 2D array of pixels with shape (`N, 3`), where `N` is the total number of pixels and each row represents the RGB values of one pixel. Pixel values are normalized to the range `[0, 1]` for numerical stability.\n",
    "### Initialization:\n",
    "`k` random pixels are chosen as the initial cluster centroids.\n",
    "This randomness can lead to different results depending on the seed, which reflects one of the limitations of standard K-means.\n",
    "### Assignment Step:\n",
    "For each pixel, the Euclidean (L2) distance to each centroid is computed. Each pixel is then assigned to the cluster whose centroid is closest. This produces a label for every pixel.\n",
    "### Update Step:\n",
    "New centroids are computed by taking the mean RGB values of all pixels assigned to each cluster. If a cluster becomes empty, the centroid is kept unchanged to ensure numerical stability.\n",
    "### Reconstruction:\n",
    "After each assignment step, a quantized image is reconstructed by replacing each pixel’s color with its corresponding cluster centroid.\n",
    "This reconstructed image reflects the reduced color palette defined by the `k` centroids.\n",
    "### Evaluation:\n",
    "At the end of each iteration, the L2 norm between the original image and the quantized image is computed. This metric serves as a measure of image distortion introduced by quantization.The L2 norms across iterations are logged to monitor convergence.\n",
    "### Stopping Criterion:\n",
    "The algorithm stops if the centroids remain unchanged within a small tolerance (`atol=1e-5`) or if the maximum number of iterations is reached.This iterative process ensures gradual improvement of the quantized image quality until convergence.\n"
   ]
  },
  {
   "cell_type": "markdown",
   "id": "fb9192a3",
   "metadata": {},
   "source": [
    "## Improvements\n",
    "Several aspects were considered to improve the basic K-means implementation:\n",
    "\n",
    "### Centroid Initialization\n",
    "Current implementation uses random pixel selection as initial centroids.\n",
    "A more robust approach such as K-means++ initialization can reduce sensitivity to poor starting points and improve convergence speed.\n",
    "### Parameter Flexibility\n",
    "The number of clusters (`k`) and maximum iterations are user-configurable.This makes experimentation easier and allows tuning for different images or performance requirements\n",
    "### Potential Future Enhancements\n",
    "Explore alternative clustering methods such as Gaussian Mixture Models (GMM) or hierarchical clustering for cases where K-means struggles.\n",
    "Implement parallelization (e.g., with NumPy vectorization or GPU acceleration) to further improve runtime efficiency."
   ]
  },
  {
   "cell_type": "markdown",
   "id": "437176be",
   "metadata": {},
   "source": [
    "## Results\n",
    "The K-means quantization was tested on both Lena and Peppers images with `k = 16` clusters and a maximum of 100 iterations.\n",
    "\n",
    "### L2 Norms\n",
    "At each iteration, the L2 norm between the original and quantized images was computed and stored in `L2_norm_log.txt`. The L2 norm consistently decreased across iterations, confirming that the quantized images became closer to the originals as centroids stabilized.\n",
    "#### The final L2 norms were:\n",
    "Lena: (value recorded from log, e.g., 29.58)\n",
    "Peppers: (value recorded from log, e.g., 38.75)\n",
    "### Execution Time\n",
    "Runtime was measured for each experiment on a standard CPU.For a 512×512 RGB image, the algorithm converged within a few seconds (depending on the initialization and exact stopping point).Execution time grows with both the number of clusters (`k`) and image size, but remained practical for the tested cases.\n",
    "### Visual Quality\n",
    "Both quantized images preserved the global structure and recognizable details while reducing the number of colors to 16.\n",
    "Minor artifacts were visible in regions with smooth gradients, which is a typical limitation of K-means quantization"
   ]
  },
  {
   "cell_type": "markdown",
   "id": "1fb6de57",
   "metadata": {},
   "source": [
    "## Conclusion\n",
    "The K-means quantization successfully reduced image colors while preserving overall structure. Logging and visualization provide insight into convergence behavior. Future improvements could focus on smarter initialization and exploring alternative clustering algorithms for more consistent results."
   ]
  },
  {
   "cell_type": "markdown",
   "id": "9e937a4c",
   "metadata": {},
   "source": [
    "<div align=\"center\">\n",
    "  <figure style=\"display:inline-block; margin:10px;\">\n",
    "    <img src=\"images/lena.png\" width=\"300\"/>\n",
    "    <figcaption>Figure 1: Original Lena</figcaption>\n",
    "  </figure>\n",
    "  <figure style=\"display:inline-block; margin:10px;\">\n",
    "    <img src=\"images/lena_quantized.png\" width=\"300\"/>\n",
    "    <figcaption>Figure 2: Lena Quantized (k=16)</figcaption>\n",
    "  </figure>\n",
    "</div>\n",
    "\n",
    "<div align=\"center\">\n",
    "  <figure style=\"display:inline-block; margin:10px;\">\n",
    "    <img src=\"images/peppers.png\" width=\"300\"/>\n",
    "    <figcaption>Figure 3: Original Peppers</figcaption>\n",
    "  </figure>\n",
    "  <figure style=\"display:inline-block; margin:10px;\">\n",
    "    <img src=\"images/peppers_quantized.png\" width=\"300\"/>\n",
    "    <figcaption>Figure 4: Peppers Quantized (k=16)</figcaption>\n",
    "  </figure>\n",
    "</div>"
   ]
  }
 ],
 "metadata": {
  "language_info": {
   "name": "python"
  }
 },
 "nbformat": 4,
 "nbformat_minor": 5
}
