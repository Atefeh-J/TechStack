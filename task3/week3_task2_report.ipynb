{
 "cells": [
  {
   "cell_type": "markdown",
   "id": "f50f2f23",
   "metadata": {},
   "source": [
    "# Report on Seam Carving Implementation\n",
    "## Introduction\n",
    "Seam carving is a content-aware image resizing technique that removes or inserts seams (connected paths of pixels with minimal importance) instead of scaling uniformly. This allows images to be resized while preserving salient and structurally important regions.  \n",
    "In this project, seam carving was implemented from scratch in Python, with additional support for saliency maps and depth maps to better preserve visually or perceptually important regions during resizing.\n"
   ]
  },
  {
   "cell_type": "markdown",
   "id": "ed1acb48",
   "metadata": {},
   "source": [
    "## Approach\n",
    "The seam carving pipeline consists of the following steps:\n",
    "### Energy Function Computation\n",
    "Base energy is calculated using image gradients (Sobel filters in the X and Y directions, followed by gradient magnitude).\n",
    "Saliency maps and depth maps are optionally incorporated.Adaptive weighting is applied using variance-based dynamic weights to determine the relative influence of saliency and depth:If the saliency map varies a lot, it receives more weight.Similarly for the depth map.  \n",
    "Final energy is a weighted combination of\n",
    "$$E(x,y) = \\|\\nabla I(x,y)\\| + \\alpha \\cdot S(x,y) + \\beta \\cdot D(x,y)$$\n",
    "### Dynamic Weighting\n",
    "Variance of saliency and depth maps is computed.Each weight is normalized and scaled to ensure fair contribution.This makes the method adaptive across different images and ensures both perceptual and geometric importance are considered\n",
    "### Finding Optimal Seam\n",
    "A cumulative minimum energy map is built row by row.For each pixel, the lowest-energy predecessor among its three upper neighbors is chosen.\n",
    "A backtrack table stores seam directions.\n",
    "### Seam Removal\n",
    "Starting from the bottom row, the minimal-energy seam is traced back.The seam pixels are removed from the image (and from saliency/depth maps if provided).The process is repeated until the target width is achieved.\n",
    "### Visualization & Logging\n",
    "Seams are optionally visualized during removal for inspection.Seam energies are logged for analysis.Resized images are saved as final outputs."
   ]
  },
  {
   "cell_type": "markdown",
   "id": "5b480f6c",
   "metadata": {},
   "source": [
    "## Energy Function Used\n",
    "Base Energy: Gradient magnitude (Sobel filter).Saliency Contribution: Preserves visually striking objects.Depth Contribution: Preserves near objects (perceptually important).Adaptive Weights: Ensure a balanced influence of saliency and depth, depending on image characteristics.  \n",
    "This hybrid energy function prevents removal of key objects (e.g., baby face, snowman body) and gives higher protection to foreground elements"
   ]
  },
  {
   "cell_type": "markdown",
   "id": "6d355e3e",
   "metadata": {},
   "source": [
    "## Adjustable Parameters\n",
    "The implementation supports:  \n",
    "Number of seams to remove (`seams_number`)  \n",
    "Visualization toggle (`visualize=True/False`)  \n",
    "Inclusion of depth and saliency maps (`depth_map, saliency_map`)  \n",
    "This flexibility allows experimentation and comparison across different settings."
   ]
  },
  {
   "cell_type": "markdown",
   "id": "63a42b5c",
   "metadata": {},
   "source": [
    "## Observations on Visual Quality\n",
    "### Baby Image: \n",
    "Foreground (baby) is preserved very well due to saliency guidance. Background shrinks naturally.  \n",
    "### Diana Image: \n",
    "Depth map helps preserve near-object details while background contracts.  \n",
    "### Snowman Image: \n",
    "Both depth and saliency prevent distortion of the snowman body while resizing the surrounding background.  \n",
    "\n",
    "In all cases, seam carving with saliency + depth yields higher perceptual quality compared to gradient-only energy functions. Important structures remain intact, and distortions are minimized"
   ]
  },
  {
   "cell_type": "markdown",
   "id": "b090392d",
   "metadata": {},
   "source": [
    "## Conclusion\n",
    "We implemented Seam Carving from scratch and enhanced it with image gradients, saliency maps, and depth maps. Adaptive variance-based weighting ensured that visually important and foreground regions are preserved during resizing.  \n",
    "Experiments on Baby, Diana, and Snowman images show that:  \n",
    "Gradient-only energy can distort key objects.  \n",
    "Adding saliency maps preserves visually prominent regions.  \n",
    "Combining saliency and depth maps gives the best balance between content preservation and image reduction.  \n",
    "Overall, this adaptive approach improves perceptual quality and is effective for content-aware image retargeting"
   ]
  },
  {
   "cell_type": "markdown",
   "id": "968c4f15",
   "metadata": {},
   "source": [
    "<div align=\"center\">\n",
    "  <figure style=\"display:inline-block; margin:10px; vertical-align:top;\">\n",
    "    <img src=\"images_2/Baby/Baby.png\" style=\"height:250px; object-fit:contain;\"/>\n",
    "    <figcaption>Figure 1: Original image of Baby</figcaption>\n",
    "  </figure>\n",
    "  <figure style=\"display:inline-block; margin:10px; vertical-align:top;\">\n",
    "    <img src=\"images_2/Baby/Baby_resized.png\" style=\"height:250px; object-fit:contain;\"/>\n",
    "    <figcaption>Figure 2: Baby resized</figcaption>\n",
    "  </figure>\n",
    "</div>\n",
    "\n",
    "<div align=\"center\">\n",
    "  <figure style=\"display:inline-block; margin:10px; vertical-align:top;\">\n",
    "    <img src=\"images_2/Diana/Diana.png\" style=\"height:250px; object-fit:contain;\"/>\n",
    "    <figcaption>Figure 3: Original image of Diana</figcaption>\n",
    "  </figure>\n",
    "  <figure style=\"display:inline-block; margin:10px; vertical-align:top;\">\n",
    "    <img src=\"images_2/Diana/Diana_resized.png\" style=\"height:250px; object-fit:contain;\"/>\n",
    "    <figcaption>Figure 4: Diana resized</figcaption>\n",
    "  </figure>\n",
    "</div>\n",
    "\n",
    "<div align=\"center\">\n",
    "  <figure style=\"display:inline-block; margin:10px; vertical-align:top;\">\n",
    "    <img src=\"images_2/Snowman/Snowman.png\" style=\"height:250px; object-fit:contain;\"/>\n",
    "    <figcaption>Figure 5: Original image of Snowman</figcaption>\n",
    "  </figure>\n",
    "  <figure style=\"display:inline-block; margin:10px; vertical-align:top;\">\n",
    "    <img src=\"images_2/Snowman/Snowman_resized.png\" style=\"height:250px; object-fit:contain;\"/>\n",
    "    <figcaption>Figure 6: Snowman resized</figcaption>\n",
    "  </figure>\n",
    "</div>\n"
   ]
  }
 ],
 "metadata": {
  "language_info": {
   "name": "python"
  }
 },
 "nbformat": 4,
 "nbformat_minor": 5
}
